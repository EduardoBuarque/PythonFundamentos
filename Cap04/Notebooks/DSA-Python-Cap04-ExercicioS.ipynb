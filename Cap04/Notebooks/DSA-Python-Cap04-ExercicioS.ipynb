{
 "cells": [
  {
   "cell_type": "markdown",
   "metadata": {},
   "source": [
    "# <font color='blue'>Data Science Academy - Python Fundamentos - Capítulo 4</font>\n",
    "\n",
    "## Download: http://github.com/dsacademybr"
   ]
  },
  {
   "cell_type": "code",
   "execution_count": 1,
   "metadata": {},
   "outputs": [
    {
     "name": "stdout",
     "output_type": "stream",
     "text": [
      "Versão da Linguagem Python Usada Neste Jupyter Notebook: 3.7.0\n"
     ]
    }
   ],
   "source": [
    "# Versão da Linguagem Python\n",
    "from platform import python_version\n",
    "print('Versão da Linguagem Python Usada Neste Jupyter Notebook:', python_version())"
   ]
  },
  {
   "cell_type": "markdown",
   "metadata": {},
   "source": [
    "## Exercícios "
   ]
  },
  {
   "cell_type": "code",
   "execution_count": 4,
   "metadata": {},
   "outputs": [
    {
     "name": "stdout",
     "output_type": "stream",
     "text": [
      "[512.0, 1728.0, 97336.0]\n"
     ]
    }
   ],
   "source": [
    "# Exercício 1 - Crie uma lista de 3 elementos e calcule a terceira potência de cada elemento.\n",
    "import math\n",
    "\n",
    "nums = [8, 12, 46]\n",
    "def potencia3(numero):\n",
    "    return math.pow(numero, 3)\n",
    "\n",
    "resultado = list(map(potencia3, nums))\n",
    "print(resultado)"
   ]
  },
  {
   "cell_type": "code",
   "execution_count": 7,
   "metadata": {},
   "outputs": [
    {
     "name": "stdout",
     "output_type": "stream",
     "text": [
      "['A', 'a', 1]\n",
      "['DATA', 'data', 4]\n",
      "['SCIENCE', 'science', 7]\n",
      "['ACADEMY', 'academy', 7]\n",
      "['OFERCE', 'oferce', 6]\n",
      "['OS', 'os', 2]\n",
      "['MELHORES', 'melhores', 8]\n",
      "['CURSOS', 'cursos', 6]\n",
      "['DE', 'de', 2]\n",
      "['ANÁLISE', 'análise', 7]\n",
      "['DE', 'de', 2]\n",
      "['DADOS', 'dados', 5]\n",
      "['DO', 'do', 2]\n",
      "['BRASIL', 'brasil', 6]\n",
      "----------------------------------------\n",
      "A a 1\n",
      "DATA data 4\n",
      "SCIENCE science 7\n",
      "ACADEMY academy 7\n",
      "OFERCE oferce 6\n",
      "OS os 2\n",
      "MELHORES melhores 8\n",
      "CURSOS cursos 6\n",
      "DE de 2\n",
      "ANÁLISE análise 7\n",
      "DE de 2\n",
      "DADOS dados 5\n",
      "DO do 2\n",
      "BRASIL brasil 6\n"
     ]
    }
   ],
   "source": [
    "# Exercício 2 - Reescreva o código abaixo, usando a função map(). O resultado final deve ser o mesmo!\n",
    "palavras = 'A Data Science Academy oferce os melhores cursos de análise de dados do Brasil'.split()\n",
    "resultado = [[w.upper(), w.lower(), len(w)] for w in palavras]\n",
    "for i in resultado:\n",
    "    print (i)\n",
    "print('----------------------------------------')\n",
    "\n",
    "resultado2 = list(map(lambda palavra: print(palavra.upper(), palavra.lower(), len(palavra)), palavras))"
   ]
  },
  {
   "cell_type": "code",
   "execution_count": 19,
   "metadata": {},
   "outputs": [
    {
     "name": "stdout",
     "output_type": "stream",
     "text": [
      "[3, 4]\n"
     ]
    }
   ],
   "source": [
    "# Exercício 3 - Calcule a matriz transposta da matriz abaixo.\n",
    "# Caso não saiba o que é matriz transposta, visite este link: https://pt.wikipedia.org/wiki/Matriz_transposta\n",
    "# Matriz transposta é um conceito fundamental na construção de redes neurais artificiais, base de sistemas de IA.\n",
    "import numpy as np\n",
    "matrix = [[1, 2],[3,4],[5,6],[7,8]]\n",
    "\n",
    "print(matrix[1])"
   ]
  },
  {
   "cell_type": "code",
   "execution_count": null,
   "metadata": {},
   "outputs": [],
   "source": []
  },
  {
   "cell_type": "raw",
   "metadata": {},
   "source": [
    "# Exercício 4 - Crie duas funções, uma para elevar um número ao quadrado e outra para elevar ao cubo. \n",
    "# Aplique as duas funções aos elementos da lista abaixo. \n",
    "# Obs: as duas funções devem ser aplicadas simultaneamente.\n",
    "lista = [0, 1, 2, 3, 4]\n",
    "\n",
    "def quadrado(numero):\n",
    "    return numero ** 2\n",
    "\n",
    "def cubo(numero):\n",
    "    return quadrado(numero**3)\n",
    "\n",
    "funcoes = [quadrado, cubo]\n",
    "\n",
    "for i in lista:\n",
    "    print(list((map(lambda x: x(i), funcoes))))\n"
   ]
  },
  {
   "cell_type": "code",
   "execution_count": 6,
   "metadata": {},
   "outputs": [
    {
     "name": "stdout",
     "output_type": "stream",
     "text": [
      "1024\n",
      "177147\n",
      "16777216\n",
      "[1024, 177147, 16777216]\n"
     ]
    }
   ],
   "source": [
    "# Exercício 5 - Abaixo você encontra duas listas. Faça com que cada elemento da listaA seja elevado \n",
    "# ao elemento correspondente na listaB.\n",
    "listaA = [2, 3, 4]\n",
    "listaB = [10, 11, 12]\n",
    "\n",
    "for i in range(len(listaA)):\n",
    "    calc = listaA[i]**listaB[i]\n",
    "    print(calc)\n",
    "\n",
    "calc = list(map(pow, listaA, listaB))\n",
    "print(calc)"
   ]
  },
  {
   "cell_type": "code",
   "execution_count": 8,
   "metadata": {},
   "outputs": [
    {
     "data": {
      "text/plain": [
       "[1, 2, 3, 4]"
      ]
     },
     "execution_count": 8,
     "metadata": {},
     "output_type": "execute_result"
    }
   ],
   "source": [
    "# Exercício 6 - Considerando o range de valores abaixo, use a função filter() para retornar apenas os valores negativos.\n",
    "valores = range(-5, 5)\n",
    "list(filter(lambda m: m >0, valores))"
   ]
  },
  {
   "cell_type": "code",
   "execution_count": 13,
   "metadata": {},
   "outputs": [
    {
     "data": {
      "text/plain": [
       "[2, 3, 5, 7]"
      ]
     },
     "execution_count": 13,
     "metadata": {},
     "output_type": "execute_result"
    }
   ],
   "source": [
    "# Exercício 7 - Usando a função filter(), encontre os valores que são comuns às duas listas abaixo.\n",
    "a = [1,2,3,5,7,9]\n",
    "b = [2,3,5,6,7,8]\n",
    "\n",
    "def em_comum(numero):\n",
    "    if numero in b:\n",
    "        return True\n",
    "list(filter(em_comum, a))"
   ]
  },
  {
   "cell_type": "code",
   "execution_count": 16,
   "metadata": {},
   "outputs": [
    {
     "name": "stdout",
     "output_type": "stream",
     "text": [
      "13/07/2020 10:26\n",
      "13/07/2020 10:26\n"
     ]
    }
   ],
   "source": [
    "# Exercício 8 - Considere o código abaixo. Obtenha o mesmo resultado usando o pacote time. \n",
    "# Não conhece o pacote time? Pesquise!\n",
    "import datetime\n",
    "print (datetime.datetime.now().strftime(\"%d/%m/%Y %H:%M\"))\n",
    "\n",
    "import time\n",
    "print (time.strftime(\"%d/%m/%Y %H:%M\"))"
   ]
  },
  {
   "cell_type": "code",
   "execution_count": 79,
   "metadata": {},
   "outputs": [
    {
     "name": "stdout",
     "output_type": "stream",
     "text": [
      "a 1\n",
      "c 4\n",
      "{'a': 4, 'b': 5}\n",
      "{'a': 4, 'b': 5}\n"
     ]
    }
   ],
   "source": [
    "### Exercício 9 - Considere os dois dicionários abaixo. \n",
    "# Crie um terceiro dicionário com as chaves do dicionário 1 e os valores do dicionário 2.\n",
    "dict1 = {'a':1,'b':2}\n",
    "dict2 = {'c':4,'d':5}\n",
    "dict3 = {}\n",
    "\n",
    "CHAVE = 0\n",
    "VALOR = 1\n",
    "\n",
    "r1 = list(enumerate(dict1.items()))\n",
    "r2 = list(enumerate(dict2.items()))\n",
    "    \n",
    "print(r1[0][1][CHAVE], r1[0][1][VALOR])\n",
    "print(r2[0][1][CHAVE], r2[0][1][VALOR])\n",
    "\n",
    "for i in range(len(r2)):\n",
    "    dict3[r1[i][1][CHAVE]] = r2[i][1][VALOR]\n",
    "print(dict3)\n",
    "\n",
    "\n",
    "def inverte(dic1, dic2):\n",
    "    dic3 = {}\n",
    "    for val1, chv2 in zip(dic1, dic2.values()):\n",
    "        dic3[val1] = chv2\n",
    "    return dic3\n",
    "print(inverte(dict1, dict2))"
   ]
  },
  {
   "cell_type": "code",
   "execution_count": null,
   "metadata": {},
   "outputs": [],
   "source": [
    "# Exercício 10 - Considere a lista abaixo e retorne apenas os elementos cujo índice for maior que 5.\n",
    "lista = ['a', 'b', 'c', 'd', 'e', 'f', 'g', 'h']"
   ]
  },
  {
   "cell_type": "markdown",
   "metadata": {},
   "source": [
    "# Fim"
   ]
  },
  {
   "cell_type": "markdown",
   "metadata": {},
   "source": [
    "### Obrigado - Data Science Academy - <a href=\"http://facebook.com/dsacademybr\">facebook.com/dsacademybr</a>"
   ]
  }
 ],
 "metadata": {
  "kernelspec": {
   "display_name": "Python 3",
   "language": "python",
   "name": "python3"
  },
  "language_info": {
   "codemirror_mode": {
    "name": "ipython",
    "version": 3
   },
   "file_extension": ".py",
   "mimetype": "text/x-python",
   "name": "python",
   "nbconvert_exporter": "python",
   "pygments_lexer": "ipython3",
   "version": "3.7.0"
  }
 },
 "nbformat": 4,
 "nbformat_minor": 1
}
