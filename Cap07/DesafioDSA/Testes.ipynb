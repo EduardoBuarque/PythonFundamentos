{
 "cells": [
  {
   "cell_type": "code",
   "execution_count": 1,
   "metadata": {},
   "outputs": [],
   "source": [
    "mapa = set()"
   ]
  },
  {
   "cell_type": "code",
   "execution_count": 2,
   "metadata": {},
   "outputs": [],
   "source": [
    "mapa.add('A')\n",
    "mapa.add('B')"
   ]
  },
  {
   "cell_type": "code",
   "execution_count": 4,
   "metadata": {},
   "outputs": [],
   "source": [
    "def teste(item):\n",
    "    if item in mapa:\n",
    "        print('Encontrado:', item)\n",
    "    else:\n",
    "        print('Não Encontrado:', item)\n",
    "    "
   ]
  },
  {
   "cell_type": "code",
   "execution_count": 5,
   "metadata": {},
   "outputs": [
    {
     "name": "stdout",
     "output_type": "stream",
     "text": [
      "Encontrado: A\n",
      "Encontrado: B\n",
      "Não Encontrado: C\n"
     ]
    }
   ],
   "source": [
    "teste('A')\n",
    "teste('B')\n",
    "teste('C')"
   ]
  },
  {
   "cell_type": "code",
   "execution_count": 8,
   "metadata": {},
   "outputs": [
    {
     "data": {
      "text/plain": [
       "False"
      ]
     },
     "execution_count": 8,
     "metadata": {},
     "output_type": "execute_result"
    }
   ],
   "source": [
    "nome1 = None\n",
    "nome1 == 'teste'"
   ]
  },
  {
   "cell_type": "code",
   "execution_count": 9,
   "metadata": {},
   "outputs": [
    {
     "data": {
      "text/plain": [
       "True"
      ]
     },
     "execution_count": 9,
     "metadata": {},
     "output_type": "execute_result"
    }
   ],
   "source": [
    "nome1 == None"
   ]
  },
  {
   "cell_type": "code",
   "execution_count": 10,
   "metadata": {},
   "outputs": [
    {
     "data": {
      "text/plain": [
       "True"
      ]
     },
     "execution_count": 10,
     "metadata": {},
     "output_type": "execute_result"
    }
   ],
   "source": [
    "nome1 = 'teste'\n",
    "nome1 == 'teste'"
   ]
  },
  {
   "cell_type": "code",
   "execution_count": 11,
   "metadata": {},
   "outputs": [],
   "source": [
    "import math"
   ]
  },
  {
   "cell_type": "code",
   "execution_count": 12,
   "metadata": {},
   "outputs": [
    {
     "data": {
      "text/plain": [
       "4.47213595499958"
      ]
     },
     "execution_count": 12,
     "metadata": {},
     "output_type": "execute_result"
    }
   ],
   "source": [
    "math.sqrt(20)"
   ]
  },
  {
   "cell_type": "code",
   "execution_count": 27,
   "metadata": {},
   "outputs": [],
   "source": [
    "def teste(numero):\n",
    "    contar = 0\n",
    "    for i in range(2, numero+1):\n",
    "        teste = numero%i\n",
    "        if teste == 0:\n",
    "            contar +=1\n",
    "                \n",
    "    if contar == 0:\n",
    "        print('Primo', numero)\n",
    "    elif contar == 1:\n",
    "        print('Primo', numero)\n",
    "    elif contar > 0:\n",
    "        print('Não Primo',numero)"
   ]
  },
  {
   "cell_type": "code",
   "execution_count": 28,
   "metadata": {},
   "outputs": [
    {
     "name": "stdout",
     "output_type": "stream",
     "text": [
      "Primo 1\n",
      "Primo 2\n",
      "Primo 3\n",
      "Não Primo 4\n",
      "Primo 5\n",
      "Não Primo 6\n",
      "Primo 7\n",
      "Não Primo 8\n",
      "Não Primo 9\n",
      "Não Primo 10\n",
      "Primo 11\n",
      "Não Primo 12\n",
      "Primo 13\n",
      "Não Primo 14\n",
      "Não Primo 15\n",
      "Não Primo 16\n",
      "Primo 17\n",
      "Não Primo 18\n",
      "Primo 19\n",
      "Não Primo 20\n",
      "Não Primo 21\n",
      "Não Primo 22\n",
      "Primo 23\n"
     ]
    }
   ],
   "source": [
    "for i in range(1, 24):\n",
    "    teste(i)"
   ]
  },
  {
   "cell_type": "code",
   "execution_count": 33,
   "metadata": {},
   "outputs": [],
   "source": [
    "def teste2(numero):\n",
    "    contar = 0\n",
    "    raiz = math.sqrt(numero)\n",
    "    raiz = math.floor(raiz)\n",
    "    print('raiz', raiz)\n",
    "    for i in range(2, raiz+1):\n",
    "        teste = numero%i\n",
    "        if teste == 0:\n",
    "            contar +=1\n",
    "                \n",
    "    if contar == 0:\n",
    "        print('Primo', numero)\n",
    "    elif contar == 1:\n",
    "        print('Primo', numero)\n",
    "    elif contar > 0:\n",
    "        print('Não Primo',numero)    "
   ]
  },
  {
   "cell_type": "code",
   "execution_count": 34,
   "metadata": {},
   "outputs": [
    {
     "name": "stdout",
     "output_type": "stream",
     "text": [
      "raiz 1\n",
      "Primo 1\n",
      "raiz 1\n",
      "Primo 2\n",
      "raiz 1\n",
      "Primo 3\n",
      "raiz 2\n",
      "Primo 4\n",
      "raiz 2\n",
      "Primo 5\n",
      "raiz 2\n",
      "Primo 6\n",
      "raiz 2\n",
      "Primo 7\n",
      "raiz 2\n",
      "Primo 8\n",
      "raiz 3\n",
      "Primo 9\n",
      "raiz 3\n",
      "Primo 10\n",
      "raiz 3\n",
      "Primo 11\n",
      "raiz 3\n",
      "Não Primo 12\n",
      "raiz 3\n",
      "Primo 13\n",
      "raiz 3\n",
      "Primo 14\n",
      "raiz 3\n",
      "Primo 15\n",
      "raiz 4\n",
      "Não Primo 16\n",
      "raiz 4\n",
      "Primo 17\n",
      "raiz 4\n",
      "Não Primo 18\n",
      "raiz 4\n",
      "Primo 19\n",
      "raiz 4\n",
      "Não Primo 20\n",
      "raiz 4\n",
      "Primo 21\n",
      "raiz 4\n",
      "Primo 22\n",
      "raiz 4\n",
      "Primo 23\n"
     ]
    }
   ],
   "source": [
    "for i in range(1, 24):\n",
    "    teste2(i)"
   ]
  },
  {
   "cell_type": "code",
   "execution_count": 35,
   "metadata": {},
   "outputs": [],
   "source": [
    "import numpy as np"
   ]
  },
  {
   "cell_type": "code",
   "execution_count": 43,
   "metadata": {},
   "outputs": [
    {
     "name": "stdout",
     "output_type": "stream",
     "text": [
      "[0.] 1\n"
     ]
    }
   ],
   "source": [
    "controle = np.zeros(1)\n",
    "print(controle, controle.size)"
   ]
  },
  {
   "cell_type": "code",
   "execution_count": 46,
   "metadata": {},
   "outputs": [
    {
     "data": {
      "text/plain": [
       "array([False, False, False,  True, False])"
      ]
     },
     "execution_count": 46,
     "metadata": {},
     "output_type": "execute_result"
    }
   ],
   "source": [
    "n = np.zeros(5)\n",
    "n[3] = 1\n",
    "n == 1"
   ]
  },
  {
   "cell_type": "code",
   "execution_count": 47,
   "metadata": {},
   "outputs": [
    {
     "data": {
      "text/plain": [
       "True"
      ]
     },
     "execution_count": 47,
     "metadata": {},
     "output_type": "execute_result"
    }
   ],
   "source": [
    "print(isinstance(7, int))"
   ]
  },
  {
   "cell_type": "code",
   "execution_count": null,
   "metadata": {},
   "outputs": [],
   "source": []
  }
 ],
 "metadata": {
  "kernelspec": {
   "display_name": "Python 3",
   "language": "python",
   "name": "python3"
  },
  "language_info": {
   "codemirror_mode": {
    "name": "ipython",
    "version": 3
   },
   "file_extension": ".py",
   "mimetype": "text/x-python",
   "name": "python",
   "nbconvert_exporter": "python",
   "pygments_lexer": "ipython3",
   "version": "3.7.0"
  }
 },
 "nbformat": 4,
 "nbformat_minor": 2
}
